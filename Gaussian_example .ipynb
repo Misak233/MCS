{
 "cells": [
  {
   "cell_type": "code",
   "execution_count": 2,
   "metadata": {},
   "outputs": [],
   "source": [
    "import numpy as np\n",
    "mu, sigma = 0, 0.1 # mean and standard deviation\n",
    "s = np.random.normal(mu, sigma, 1000)"
   ]
  },
  {
   "cell_type": "code",
   "execution_count": 23,
   "metadata": {},
   "outputs": [],
   "source": [
    "#generate traing data \n",
    "def fx(x,e):\n",
    "    num=0\n",
    "    y=[]\n",
    "    while num<len(x):\n",
    "        z=int(x[num])\n",
    "        yy=z**3+e[num]\n",
    "        #print(yy)\n",
    "        num+=1\n",
    "        y.append(yy)\n",
    "    return y"
   ]
  },
  {
   "cell_type": "code",
   "execution_count": 24,
   "metadata": {},
   "outputs": [],
   "source": [
    "import random\n",
    "x=[]\n",
    "for i in range(1000):\n",
    "    z=random.uniform(1, 10)\n",
    "    x.append(z)\n",
    "y=fx(x,s)"
   ]
  },
  {
   "cell_type": "code",
   "execution_count": 26,
   "metadata": {},
   "outputs": [],
   "source": [
    "y=np.array(y)\n",
    "x=np.array(x)"
   ]
  },
  {
   "cell_type": "code",
   "execution_count": 30,
   "metadata": {},
   "outputs": [],
   "source": [
    "from tensorflow.keras.layers import Input, Dense\n",
    "from tensorflow.keras.models import Model\n",
    "\n",
    "\n",
    "# Define inputs with predefined shape\n",
    "inputs = Input(shape=(1,))\n",
    "\n",
    "# Build network with some predefined architecture\n",
    "output1 = Dense(10,activation='relu')(inputs)\n",
    "output2 = Dense(10,activation='relu')(output1)\n",
    "\n",
    "# Predict the target variable with a single Dense output\n",
    "regression_output = Dense(2)(output2)\n",
    "\n",
    "# Construct model\n",
    "model = Model(inputs=inputs, outputs=regression_output)"
   ]
  },
  {
   "cell_type": "code",
   "execution_count": 31,
   "metadata": {},
   "outputs": [
    {
     "name": "stderr",
     "output_type": "stream",
     "text": [
      "Using TensorFlow backend.\n"
     ]
    }
   ],
   "source": [
    "import keras.backend as K\n",
    "import numpy as np\n",
    "\n",
    "\n",
    "def gaussian_nll(ytrue, ypreds):\n",
    "    \"\"\"Keras implmementation of multivariate Gaussian negative loglikelihood loss function. \n",
    "    This implementation implies diagonal covariance matrix.\n",
    "    \n",
    "    Parameters\n",
    "    ----------\n",
    "    ytrue: tf.tensor of shape [n_samples, n_dims]\n",
    "        ground truth values\n",
    "    ypreds: tf.tensor of shape [n_samples, n_dims*2]\n",
    "        predicted mu and logsigma values (e.g. by your neural network)\n",
    "        \n",
    "    Returns\n",
    "    -------\n",
    "    neg_log_likelihood: float\n",
    "        negative loglikelihood averaged over samples\n",
    "        \n",
    "    This loss can then be used as a target loss for any keras model, e.g.:\n",
    "        model.compile(loss=gaussian_nll, optimizer='Adam') \n",
    "    \n",
    "    \"\"\"\n",
    "    \n",
    "    n_dims = int(int(ypreds.shape[1])/2)\n",
    "    mu = ypreds[:, 0:n_dims]\n",
    "    logsigma = ypreds[:, n_dims:]\n",
    "    \n",
    "    mse = -0.5*K.sum(K.square((ytrue-mu)/K.exp(logsigma)),axis=1)\n",
    "    sigma_trace = -K.sum(logsigma, axis=1)\n",
    "    log2pi = -0.5*n_dims*np.log(2*np.pi)\n",
    "    \n",
    "    log_likelihood = mse+sigma_trace+log2pi\n",
    "\n",
    "    return K.mean(-log_likelihood)"
   ]
  },
  {
   "cell_type": "code",
   "execution_count": 34,
   "metadata": {},
   "outputs": [
    {
     "name": "stdout",
     "output_type": "stream",
     "text": [
      "Epoch 1/40\n",
      "100/100 [==============================] - 0s 721us/step - loss: 6.6725\n",
      "Epoch 2/40\n",
      "100/100 [==============================] - 0s 792us/step - loss: 6.0436\n",
      "Epoch 3/40\n",
      "100/100 [==============================] - 0s 839us/step - loss: 6.0315\n",
      "Epoch 4/40\n",
      "100/100 [==============================] - 0s 797us/step - loss: 6.0188\n",
      "Epoch 5/40\n",
      "100/100 [==============================] - 0s 782us/step - loss: 6.0061\n",
      "Epoch 6/40\n",
      "100/100 [==============================] - 0s 759us/step - loss: 5.9936\n",
      "Epoch 7/40\n",
      "100/100 [==============================] - 0s 754us/step - loss: 5.9828\n",
      "Epoch 8/40\n",
      "100/100 [==============================] - 0s 763us/step - loss: 5.9711\n",
      "Epoch 9/40\n",
      "100/100 [==============================] - 0s 752us/step - loss: 5.9620\n",
      "Epoch 10/40\n",
      "100/100 [==============================] - 0s 776us/step - loss: 5.9521\n",
      "Epoch 11/40\n",
      "100/100 [==============================] - 0s 747us/step - loss: 5.9442\n",
      "Epoch 12/40\n",
      "100/100 [==============================] - 0s 743us/step - loss: 5.9357\n",
      "Epoch 13/40\n",
      "100/100 [==============================] - 0s 807us/step - loss: 5.9292\n",
      "Epoch 14/40\n",
      "100/100 [==============================] - 0s 717us/step - loss: 5.9237\n",
      "Epoch 15/40\n",
      "100/100 [==============================] - 0s 760us/step - loss: 5.9180\n",
      "Epoch 16/40\n",
      "100/100 [==============================] - 0s 735us/step - loss: 5.9126\n",
      "Epoch 17/40\n",
      "100/100 [==============================] - 0s 751us/step - loss: 5.9117\n",
      "Epoch 18/40\n",
      "100/100 [==============================] - 0s 733us/step - loss: 5.9066\n",
      "Epoch 19/40\n",
      "100/100 [==============================] - 0s 741us/step - loss: 5.9020\n",
      "Epoch 20/40\n",
      "100/100 [==============================] - 0s 767us/step - loss: 5.9002\n",
      "Epoch 21/40\n",
      "100/100 [==============================] - 0s 777us/step - loss: 5.8957\n",
      "Epoch 22/40\n",
      "100/100 [==============================] - 0s 717us/step - loss: 5.8932\n",
      "Epoch 23/40\n",
      "100/100 [==============================] - 0s 768us/step - loss: 5.8898\n",
      "Epoch 24/40\n",
      "100/100 [==============================] - 0s 764us/step - loss: 5.8867\n",
      "Epoch 25/40\n",
      "100/100 [==============================] - 0s 729us/step - loss: 5.8844\n",
      "Epoch 26/40\n",
      "100/100 [==============================] - 0s 775us/step - loss: 5.8824\n",
      "Epoch 27/40\n",
      "100/100 [==============================] - 0s 749us/step - loss: 5.8792\n",
      "Epoch 28/40\n",
      "100/100 [==============================] - 0s 741us/step - loss: 5.8762\n",
      "Epoch 29/40\n",
      "100/100 [==============================] - 0s 777us/step - loss: 5.8721\n",
      "Epoch 30/40\n",
      "100/100 [==============================] - 0s 759us/step - loss: 5.8660\n",
      "Epoch 31/40\n",
      "100/100 [==============================] - 0s 732us/step - loss: 5.8656\n",
      "Epoch 32/40\n",
      "100/100 [==============================] - 0s 763us/step - loss: 5.8583\n",
      "Epoch 33/40\n",
      "100/100 [==============================] - 0s 775us/step - loss: 5.8563\n",
      "Epoch 34/40\n",
      "100/100 [==============================] - 0s 793us/step - loss: 5.8498\n",
      "Epoch 35/40\n",
      "100/100 [==============================] - 0s 700us/step - loss: 5.8443\n",
      "Epoch 36/40\n",
      "100/100 [==============================] - 0s 743us/step - loss: 5.8377\n",
      "Epoch 37/40\n",
      "100/100 [==============================] - 0s 763us/step - loss: 5.8313\n",
      "Epoch 38/40\n",
      "100/100 [==============================] - 0s 730us/step - loss: 5.8234\n",
      "Epoch 39/40\n",
      "100/100 [==============================] - 0s 782us/step - loss: 5.8155\n",
      "Epoch 40/40\n",
      "100/100 [==============================] - 0s 764us/step - loss: 5.8068\n"
     ]
    }
   ],
   "source": [
    "model.compile(optimizer='adam', loss=gaussian_nll)\n",
    "model_fit = model.fit(x, y, \n",
    "                      batch_size=10, epochs=40\n",
    "                   )"
   ]
  },
  {
   "cell_type": "code",
   "execution_count": 35,
   "metadata": {},
   "outputs": [
    {
     "data": {
      "text/plain": [
       "array([[46.958523 ,  7.2199183],\n",
       "       [18.329288 ,  3.204102 ],\n",
       "       [28.257504 ,  4.601701 ],\n",
       "       ...,\n",
       "       [ 8.7618065,  1.8527968],\n",
       "       [46.45367  ,  7.1492367],\n",
       "       [38.124897 ,  5.9831758]], dtype=float32)"
      ]
     },
     "execution_count": 35,
     "metadata": {},
     "output_type": "execute_result"
    }
   ],
   "source": [
    "model.predict(x)"
   ]
  },
  {
   "cell_type": "code",
   "execution_count": null,
   "metadata": {},
   "outputs": [],
   "source": []
  }
 ],
 "metadata": {
  "kernelspec": {
   "display_name": "Python 3",
   "language": "python",
   "name": "python3"
  },
  "language_info": {
   "codemirror_mode": {
    "name": "ipython",
    "version": 3
   },
   "file_extension": ".py",
   "mimetype": "text/x-python",
   "name": "python",
   "nbconvert_exporter": "python",
   "pygments_lexer": "ipython3",
   "version": "3.7.3"
  }
 },
 "nbformat": 4,
 "nbformat_minor": 2
}
